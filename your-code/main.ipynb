{
 "cells": [
  {
   "cell_type": "markdown",
   "metadata": {},
   "source": [
    "# Intrduction to NumPy\n",
    "\n",
    "\n",
    "#### 1. Import NumPy under the name np."
   ]
  },
  {
   "cell_type": "code",
   "execution_count": 1,
   "metadata": {},
   "outputs": [],
   "source": [
    "# your code here\n",
    "import numpy as np"
   ]
  },
  {
   "cell_type": "markdown",
   "metadata": {},
   "source": [
    "#### 2. Print your NumPy version."
   ]
  },
  {
   "cell_type": "code",
   "execution_count": 2,
   "metadata": {},
   "outputs": [
    {
     "name": "stdout",
     "output_type": "stream",
     "text": [
      "1.18.1\n"
     ]
    }
   ],
   "source": [
    "# your code here\n",
    "print(np.__version__)"
   ]
  },
  {
   "cell_type": "markdown",
   "metadata": {},
   "source": [
    "#### 3. Generate a 2x3x5 3-dimensional array with random values. Assign the array to variable *a*.\n",
    "**Challenge**: there are at least three easy ways that use numpy to generate random arrays. How many ways can you find?"
   ]
  },
  {
   "cell_type": "code",
   "execution_count": 3,
   "metadata": {},
   "outputs": [
    {
     "name": "stdout",
     "output_type": "stream",
     "text": [
      "[[[0.55 0.9  0.44 0.76 0.14]\n",
      "  [0.4  0.27 0.04 0.64 0.27]\n",
      "  [0.01 0.46 0.82 0.98 0.27]]\n",
      "\n",
      " [[0.29 0.06 0.07 0.94 0.36]\n",
      "  [0.14 0.32 0.23 0.27 0.36]\n",
      "  [0.99 0.82 0.73 0.13 0.16]]]\n"
     ]
    }
   ],
   "source": [
    "# Method 1 - random samples from a uniform distribution over [0, 1)\n",
    "a1 = np.random.rand(2,3,5)\n",
    "np.set_printoptions(precision=2)\n",
    "print(a1)"
   ]
  },
  {
   "cell_type": "code",
   "execution_count": 4,
   "metadata": {},
   "outputs": [
    {
     "name": "stdout",
     "output_type": "stream",
     "text": [
      "[[[-0.1  -0.88  0.45  0.82  0.59]\n",
      "  [ 0.19 -0.49 -1.72  0.38  0.63]\n",
      "  [ 0.04  0.03 -0.04  2.14  0.99]]\n",
      "\n",
      " [[-0.85 -0.94  0.07  0.02  0.67]\n",
      "  [ 1.05 -0.65 -0.7  -2.02  0.7 ]\n",
      "  [-0.26  0.99  0.45 -1.41  1.14]]]\n"
     ]
    }
   ],
   "source": [
    "# Method 2 - randoms sampled from univariate normal distribution (mean = 0, variance = 1)\n",
    "a2 = np.random.randn(2,3,5)\n",
    "print(a2)"
   ]
  },
  {
   "cell_type": "code",
   "execution_count": 5,
   "metadata": {},
   "outputs": [
    {
     "name": "stdout",
     "output_type": "stream",
     "text": [
      "[[[-28 -90  24  26  74]\n",
      "  [ 56  10  16 -46 -36]\n",
      "  [ 60  66 -40  32 -58]]\n",
      "\n",
      " [[-30  90 -66  70  10]\n",
      "  [-82  50  22 -52  26]\n",
      "  [ 38  -2 -50 100  88]]]\n"
     ]
    }
   ],
   "source": [
    "# Method 3 - random sample from a given 1-D array\n",
    "array1 = np.array(range(-100,101,2))\n",
    "a3 = np.random.choice(array1,(2,3,5))\n",
    "print(a3)"
   ]
  },
  {
   "cell_type": "markdown",
   "metadata": {},
   "source": [
    "#### 4. Print *a*.\n"
   ]
  },
  {
   "cell_type": "code",
   "execution_count": 6,
   "metadata": {},
   "outputs": [
    {
     "name": "stdout",
     "output_type": "stream",
     "text": [
      "[[[-1.21e+00 -1.38e-01 -2.09e+00  2.14e-01  1.29e+00]\n",
      "  [-1.25e+00  6.77e-01  5.75e-01  8.55e-01  3.55e-01]\n",
      "  [-2.65e+00 -4.88e-01  2.60e-01  2.97e-01 -7.17e-01]]\n",
      "\n",
      " [[-1.37e-01 -5.45e-02 -5.90e-04  3.92e-01 -1.10e-01]\n",
      "  [ 8.29e-01 -6.35e-02 -2.52e-01  1.37e+00  5.64e-01]\n",
      "  [-9.52e-01 -1.78e-01  2.43e+00 -1.72e-01  8.24e-02]]]\n"
     ]
    }
   ],
   "source": [
    "# your code here (I'll define a using method2 above)\n",
    "a = np.random.randn(2,3,5)\n",
    "print(a)"
   ]
  },
  {
   "cell_type": "markdown",
   "metadata": {},
   "source": [
    "#### 5. Create a 5x2x3 3-dimensional array with all values equaling 1. Assign the array to variable *b*."
   ]
  },
  {
   "cell_type": "code",
   "execution_count": 7,
   "metadata": {},
   "outputs": [],
   "source": [
    "# your code here\n",
    "b = np.ones((5,2,3))"
   ]
  },
  {
   "cell_type": "markdown",
   "metadata": {},
   "source": [
    "#### 6. Print *b*.\n"
   ]
  },
  {
   "cell_type": "code",
   "execution_count": 8,
   "metadata": {},
   "outputs": [
    {
     "name": "stdout",
     "output_type": "stream",
     "text": [
      "[[[1. 1. 1.]\n",
      "  [1. 1. 1.]]\n",
      "\n",
      " [[1. 1. 1.]\n",
      "  [1. 1. 1.]]\n",
      "\n",
      " [[1. 1. 1.]\n",
      "  [1. 1. 1.]]\n",
      "\n",
      " [[1. 1. 1.]\n",
      "  [1. 1. 1.]]\n",
      "\n",
      " [[1. 1. 1.]\n",
      "  [1. 1. 1.]]]\n"
     ]
    }
   ],
   "source": [
    "# your code here (as noticed below, np.ones --> assigns float type)\n",
    "print(b)"
   ]
  },
  {
   "cell_type": "markdown",
   "metadata": {},
   "source": [
    "#### 7. Do *a* and *b* have the same size? How do you prove that in Python code?"
   ]
  },
  {
   "cell_type": "code",
   "execution_count": 9,
   "metadata": {},
   "outputs": [
    {
     "name": "stdout",
     "output_type": "stream",
     "text": [
      "False\n",
      "True\n"
     ]
    }
   ],
   "source": [
    "# your code here (arrays a and b doesn't have the same shape but the same size)\n",
    "print(a.shape == b.shape)\n",
    "print(a.size == b.size)"
   ]
  },
  {
   "cell_type": "markdown",
   "metadata": {},
   "source": [
    "#### 8. Are you able to add *a* and *b*? Why or why not?\n"
   ]
  },
  {
   "cell_type": "code",
   "execution_count": 10,
   "metadata": {},
   "outputs": [
    {
     "name": "stdout",
     "output_type": "stream",
     "text": [
      "(a + b) is not defined because of their different shapes\n"
     ]
    }
   ],
   "source": [
    "# your answer here\n",
    "try:\n",
    "    a + b\n",
    "except:\n",
    "    print(\"(a + b) is not defined because of their different shapes\")"
   ]
  },
  {
   "cell_type": "markdown",
   "metadata": {},
   "source": [
    "#### 9. Transpose *b* so that it has the same structure of *a* (i.e. become a 2x3x5 array). Assign the transposed array to variable *c*."
   ]
  },
  {
   "cell_type": "code",
   "execution_count": 11,
   "metadata": {},
   "outputs": [
    {
     "name": "stdout",
     "output_type": "stream",
     "text": [
      "New shape of transposed array 'b' is  (2, 3, 5)\n"
     ]
    }
   ],
   "source": [
    "# your code here\n",
    "c = np.transpose(b,(1,2,0))\n",
    "print(\"New shape of transposed array 'b' is \", np.shape(c))"
   ]
  },
  {
   "cell_type": "markdown",
   "metadata": {},
   "source": [
    "#### 10. Try to add *a* and *c*. Now it should work. Assign the sum to variable *d*. But why does it work now?"
   ]
  },
  {
   "cell_type": "code",
   "execution_count": 12,
   "metadata": {},
   "outputs": [
    {
     "name": "stdout",
     "output_type": "stream",
     "text": [
      "Now 'a' and 'c' have the same array shape\n"
     ]
    }
   ],
   "source": [
    "# your code/answer here\n",
    "if np.shape(a) == np.shape(c):\n",
    "    d = a + c\n",
    "    print(\"Now 'a' and 'c' have the same array shape\")"
   ]
  },
  {
   "cell_type": "markdown",
   "metadata": {},
   "source": [
    "#### 11. Print *a* and *d*. Notice the difference and relation of the two array in terms of the values? Explain."
   ]
  },
  {
   "cell_type": "code",
   "execution_count": 13,
   "metadata": {},
   "outputs": [
    {
     "name": "stdout",
     "output_type": "stream",
     "text": [
      "Notice values of 'd' are just values of 'a' plus one\n",
      "\n",
      "a =  [[[-1.21e+00 -1.38e-01 -2.09e+00  2.14e-01  1.29e+00]\n",
      "  [-1.25e+00  6.77e-01  5.75e-01  8.55e-01  3.55e-01]\n",
      "  [-2.65e+00 -4.88e-01  2.60e-01  2.97e-01 -7.17e-01]]\n",
      "\n",
      " [[-1.37e-01 -5.45e-02 -5.90e-04  3.92e-01 -1.10e-01]\n",
      "  [ 8.29e-01 -6.35e-02 -2.52e-01  1.37e+00  5.64e-01]\n",
      "  [-9.52e-01 -1.78e-01  2.43e+00 -1.72e-01  8.24e-02]]]\n",
      "\n",
      "d =  [[[-0.21  0.86 -1.09  1.21  2.29]\n",
      "  [-0.25  1.68  1.57  1.86  1.36]\n",
      "  [-1.65  0.51  1.26  1.3   0.28]]\n",
      "\n",
      " [[ 0.86  0.95  1.    1.39  0.89]\n",
      "  [ 1.83  0.94  0.75  2.37  1.56]\n",
      "  [ 0.05  0.82  3.43  0.83  1.08]]]\n"
     ]
    }
   ],
   "source": [
    "# your code/answer here\n",
    "print(\"Notice values of 'd' are just values of 'a' plus one\")\n",
    "print(\"\")\n",
    "print(\"a = \", a)\n",
    "print(\"\")\n",
    "print(\"d = \", d)"
   ]
  },
  {
   "cell_type": "markdown",
   "metadata": {},
   "source": [
    "#### 12. Multiply *a* and *c*. Assign the result to *e*."
   ]
  },
  {
   "cell_type": "code",
   "execution_count": 14,
   "metadata": {},
   "outputs": [],
   "source": [
    "# your code here\n",
    "e = a * c"
   ]
  },
  {
   "cell_type": "markdown",
   "metadata": {},
   "source": [
    "#### 13. Does *e* equal to *a*? Why or why not?\n"
   ]
  },
  {
   "cell_type": "code",
   "execution_count": 15,
   "metadata": {},
   "outputs": [
    {
     "name": "stdout",
     "output_type": "stream",
     "text": [
      "Notice 'e' equals 'a'. \n",
      "Given 'c' a unitary array, and 'a * c' NOT meaning a multiplication between matrices but between values in the array\n"
     ]
    }
   ],
   "source": [
    "# your code/answer here\n",
    "if (e == a).all():\n",
    "    print(\"Notice 'e' equals 'a'. \\nGiven 'c' a unitary array, and \\\n",
    "'a * c' NOT meaning a multiplication between matrices but between values in the array\")"
   ]
  },
  {
   "cell_type": "markdown",
   "metadata": {},
   "source": [
    "#### 14. Identify the max, min, and mean values in *d*. Assign those values to variables *d_max*, *d_min* and *d_mean*."
   ]
  },
  {
   "cell_type": "code",
   "execution_count": 16,
   "metadata": {},
   "outputs": [
    {
     "name": "stdout",
     "output_type": "stream",
     "text": [
      "d_max =  3.43\n",
      "d_min =  -1.65\n",
      "d_mean =  0.99\n",
      "\n",
      "Note d_mean is near 1 --> mean(a) = 0 and mean(c) = 1\n"
     ]
    }
   ],
   "source": [
    "# your code here\n",
    "d_max = np.max(d)\n",
    "d_min = np.min(d)\n",
    "d_mean = np.mean(d)\n",
    "print(\"d_max = \", round(d_max,2))\n",
    "print(\"d_min = \", round(d_min,2))\n",
    "print(\"d_mean = \", round(d_mean,2))\n",
    "print(\"\")\n",
    "print(\"Note d_mean is near 1 --> mean(a) = 0 and mean(c) = 1\")"
   ]
  },
  {
   "cell_type": "markdown",
   "metadata": {},
   "source": [
    "#### 15. Now we want to label the values in *d*. First create an empty array *f* with the same shape (i.e. 2x3x5) as *d* using `np.empty`.\n"
   ]
  },
  {
   "cell_type": "code",
   "execution_count": 17,
   "metadata": {},
   "outputs": [
    {
     "name": "stdout",
     "output_type": "stream",
     "text": [
      "float64\n"
     ]
    }
   ],
   "source": [
    "# your code here\n",
    "f = np.empty((2,3,5))\n",
    "print(f.dtype)"
   ]
  },
  {
   "cell_type": "markdown",
   "metadata": {},
   "source": [
    "#### 16. Populate the values in *f*. \n",
    "\n",
    "For each value in *d*, if it's larger than *d_min* but smaller than *d_mean*, assign 25 to the corresponding value in *f*. If a value in *d* is larger than *d_mean* but smaller than *d_max*, assign 75 to the corresponding value in *f*. If a value equals to *d_mean*, assign 50 to the corresponding value in *f*. Assign 0 to the corresponding value(s) in *f* for *d_min* in *d*. Assign 100 to the corresponding value(s) in *f* for *d_max* in *d*. In the end, f should have only the following values: 0, 25, 50, 75, and 100.\n",
    "\n",
    "**Note**: you don't have to use Numpy in this question."
   ]
  },
  {
   "cell_type": "code",
   "execution_count": 18,
   "metadata": {},
   "outputs": [],
   "source": [
    "# your code here\n",
    "f[(d < d_mean) & (d > d_min)] = 25\n",
    "f[(d > d_mean) & (d < d_max)] = 75\n",
    "f[d == d_mean] = 50\n",
    "f[d == d_min] = 0\n",
    "f[d == d_max] = 100"
   ]
  },
  {
   "cell_type": "markdown",
   "metadata": {},
   "source": [
    "#### 17. Print *d* and *f*. Do you have your expected *f*?\n",
    "For instance, if your *d* is:\n",
    "```python\n",
    "[[[1.85836099, 1.67064465, 1.62576044, 1.40243961, 1.88454931],\n",
    "[1.75354326, 1.69403643, 1.36729252, 1.61415071, 1.12104981],\n",
    "[1.72201435, 1.1862918 , 1.87078449, 1.7726778 , 1.88180042]],\n",
    "[[1.44747908, 1.31673383, 1.02000951, 1.52218947, 1.97066381],\n",
    "[1.79129243, 1.74983003, 1.96028037, 1.85166831, 1.65450881],\n",
    "[1.18068344, 1.9587381 , 1.00656599, 1.93402165, 1.73514584]]]\n",
    "```\n",
    "Your *f* should be:\n",
    "```python\n",
    "[[[ 75.,  75.,  75.,  25.,  75.],\n",
    "[ 75.,  75.,  25.,  25.,  25.],\n",
    "[ 75.,  25.,  75.,  75.,  75.]],\n",
    "[[ 25.,  25.,  25.,  25., 100.],\n",
    "[ 75.,  75.,  75.,  75.,  75.],\n",
    "[ 25.,  75.,   0.,  75.,  75.]]]\n",
    "```"
   ]
  },
  {
   "cell_type": "code",
   "execution_count": 19,
   "metadata": {},
   "outputs": [
    {
     "name": "stdout",
     "output_type": "stream",
     "text": [
      "d =  [[[-0.21  0.86 -1.09  1.21  2.29]\n",
      "  [-0.25  1.68  1.57  1.86  1.36]\n",
      "  [-1.65  0.51  1.26  1.3   0.28]]\n",
      "\n",
      " [[ 0.86  0.95  1.    1.39  0.89]\n",
      "  [ 1.83  0.94  0.75  2.37  1.56]\n",
      "  [ 0.05  0.82  3.43  0.83  1.08]]]\n",
      "\n",
      "f =  [[[ 25.  25.  25.  75.  75.]\n",
      "  [ 25.  75.  75.  75.  75.]\n",
      "  [  0.  25.  75.  75.  25.]]\n",
      "\n",
      " [[ 25.  25.  75.  75.  25.]\n",
      "  [ 75.  25.  25.  75.  75.]\n",
      "  [ 25.  25. 100.  25.  75.]]]\n"
     ]
    }
   ],
   "source": [
    "# your code here\n",
    "print(\"d = \", d)\n",
    "print(\"\")\n",
    "print(\"f = \", f)"
   ]
  },
  {
   "cell_type": "markdown",
   "metadata": {},
   "source": [
    "#### 18. Bonus question: instead of using numbers (i.e. 0, 25, 50, 75, and 100), use string values  (\"A\", \"B\", \"C\", \"D\", and \"E\") to label the array elements. For the example above, the expected result is:\n",
    "\n",
    "```python\n",
    "[[[ 'D',  'D',  'D',  'B',  'D'],\n",
    "[ 'D',  'D',  'B',  'B',  'B'],\n",
    "[ 'D',  'B',  'D',  'D',  'D']],\n",
    "[[ 'B',  'B',  'B',  'B',  'E'],\n",
    "[ 'D',  'D',  'D',  'D',  'D'],\n",
    "[ 'B',  'D',   'A',  'D', 'D']]]\n",
    "```\n",
    "**Note**: you don't have to use Numpy in this question."
   ]
  },
  {
   "cell_type": "code",
   "execution_count": 20,
   "metadata": {},
   "outputs": [
    {
     "name": "stdout",
     "output_type": "stream",
     "text": [
      "<U32\n",
      "g =  [[['B' 'B' 'B' 'D' 'D']\n",
      "  ['B' 'D' 'D' 'D' 'D']\n",
      "  ['A' 'B' 'D' 'D' 'B']]\n",
      "\n",
      " [['B' 'B' 'D' 'D' 'B']\n",
      "  ['D' 'B' 'B' 'D' 'D']\n",
      "  ['B' 'B' 'E' 'B' 'D']]]\n"
     ]
    }
   ],
   "source": [
    "# your code here\n",
    "g = np.empty((2,3,5)).astype(str)\n",
    "print(g.dtype)\n",
    "g[f == 0] = 'A'\n",
    "g[f == 25] = 'B'\n",
    "g[f == 50] = 'C'\n",
    "g[f == 75] = 'D'\n",
    "g[f == 100] = 'E'\n",
    "print(\"g = \", g)"
   ]
  }
 ],
 "metadata": {
  "kernelspec": {
   "display_name": "Python 3",
   "language": "python",
   "name": "python3"
  },
  "language_info": {
   "codemirror_mode": {
    "name": "ipython",
    "version": 3
   },
   "file_extension": ".py",
   "mimetype": "text/x-python",
   "name": "python",
   "nbconvert_exporter": "python",
   "pygments_lexer": "ipython3",
   "version": "3.7.6"
  }
 },
 "nbformat": 4,
 "nbformat_minor": 2
}
